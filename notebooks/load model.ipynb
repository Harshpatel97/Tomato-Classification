{
 "cells": [
  {
   "cell_type": "code",
   "execution_count": 1,
   "id": "fec6e2cc",
   "metadata": {},
   "outputs": [],
   "source": [
    "import torchvision\n",
    "from torch import nn\n",
    "from pathlib import Path\n",
    "import time\n",
    "\n",
    "import torch, torchvision\n",
    "\n",
    "import os\n",
    "import pathlib\n",
    "import torch\n",
    "import random\n",
    "import matplotlib.pyplot as plt\n",
    "%matplotlib inline\n",
    "from typing import Tuple, List, Dict\n",
    "from torch import nn\n",
    "\n",
    "from PIL import Image\n",
    "from torch.utils.data import Dataset\n",
    "from torchvision import transforms\n",
    "\n",
    "from timeit import default_timer as timer "
   ]
  },
  {
   "cell_type": "code",
   "execution_count": 10,
   "id": "75dd578a",
   "metadata": {},
   "outputs": [],
   "source": [
    "class_names = ['Bacterial_spot',\n",
    "                 'Curl_Virus',\n",
    "                 'Early_blight',\n",
    "                 'Healthy',\n",
    "                 'Late_blight',\n",
    "                 'Leaf_Mold',\n",
    "                 'Mosaic_virus',\n",
    "                 'Septoria_leaf_spot',\n",
    "                 'Target_Spot',\n",
    "                 'Two_spotted_spider_mite']"
   ]
  },
  {
   "cell_type": "code",
   "execution_count": 11,
   "id": "89d07af2",
   "metadata": {},
   "outputs": [],
   "source": [
    "loc = Path(\"E:\\Tomato-Classification\\Data\\PlantVillage\")"
   ]
  },
  {
   "cell_type": "code",
   "execution_count": 12,
   "id": "38076ea1",
   "metadata": {},
   "outputs": [],
   "source": [
    "model = torchvision.models.efficientnet_b2()"
   ]
  },
  {
   "cell_type": "code",
   "execution_count": 13,
   "id": "c823332d",
   "metadata": {},
   "outputs": [],
   "source": [
    "saved_model = torch.load(r\"E:\\Tomato-Classification\\notebooks\\model.pth\").to('cpu')"
   ]
  },
  {
   "cell_type": "code",
   "execution_count": 14,
   "id": "657ff6de",
   "metadata": {},
   "outputs": [],
   "source": [
    "data_transform = transforms.Compose([\n",
    "    transforms.Resize(size=(224,224)),\n",
    "    transforms.ToTensor(),\n",
    "    #transforms.Normalize(mean=[0.485, 0.456, 0.406], std=[0.229, 0.224, 0.225])\n",
    "])"
   ]
  },
  {
   "cell_type": "code",
   "execution_count": 15,
   "id": "25641c29",
   "metadata": {},
   "outputs": [],
   "source": [
    "device = 'cpu'"
   ]
  },
  {
   "cell_type": "code",
   "execution_count": 16,
   "id": "c1befe2a",
   "metadata": {},
   "outputs": [],
   "source": [
    "import gradio as gr"
   ]
  },
  {
   "cell_type": "code",
   "execution_count": 17,
   "id": "a2c75e13",
   "metadata": {},
   "outputs": [],
   "source": [
    "from typing import Tuple, Dict\n",
    "\n",
    "def predict(img) -> Tuple[Dict, float]:\n",
    "    \"\"\"Transforms and performs a prediction on img and returns prediction and time taken.\n",
    "    \"\"\"\n",
    "    # Start the timer\n",
    "    start_time = timer()\n",
    "    \n",
    "    # Transform the target image and add a batch dimension\n",
    "    img = data_transform(img).unsqueeze(0).to('cpu')\n",
    "    \n",
    "    # Put model into evaluation mode and turn on inference mode\n",
    "    saved_model.eval()\n",
    "    with torch.inference_mode():\n",
    "        # Pass the transformed image through the model and turn the prediction logits into prediction probabilities\n",
    "        pred_probs = torch.softmax(saved_model(img), dim=1)\n",
    "    \n",
    "    # Create a prediction label and prediction probability dictionary for each prediction class (this is the required format for Gradio's output parameter)\n",
    "    pred_labels_and_probs = {class_names[i]: float(pred_probs[0][i]) for i in range(len(class_names))}\n",
    "    \n",
    "    # Calculate the prediction time\n",
    "    pred_time = round(timer() - start_time, 5)\n",
    "    \n",
    "    # Return the prediction dictionary and prediction time \n",
    "    return pred_labels_and_probs, pred_time"
   ]
  },
  {
   "cell_type": "code",
   "execution_count": 18,
   "id": "636a5c64",
   "metadata": {},
   "outputs": [
    {
     "name": "stdout",
     "output_type": "stream",
     "text": [
      "[INFO] Predicting on image at path: E:\\Tomato-Classification\\Data\\PlantVillage\\Two_spotted_spider_mite\\789cd918-1324-45be-a616-e38f9ab50a48___Com.G_SpM_FL 1189.JPG\n",
      "\n",
      "Prediction label and probability dictionary: \n",
      "{'Bacterial_spot': 2.725256990743219e-06, 'Curl_Virus': 0.00021838702377863228, 'Early_blight': 1.146427803178085e-05, 'Healthy': 0.0004805121570825577, 'Late_blight': 2.4606538318039384e-06, 'Leaf_Mold': 0.0005337593611329794, 'Mosaic_virus': 6.200515781529248e-05, 'Septoria_leaf_spot': 0.0005692208651453257, 'Target_Spot': 0.006529205944389105, 'Two_spotted_spider_mite': 0.9915902018547058}\n",
      "Prediction time: 0.06394 seconds\n"
     ]
    }
   ],
   "source": [
    "import random\n",
    "from PIL import Image\n",
    "from pathlib import Path\n",
    "\n",
    "# Get a list of all test image filepaths\n",
    "test_data_paths = list(loc.glob(\"*/*.jpg\"))\n",
    "#image_path_list = list(loc.glob(\"*/*.jpg\"))\n",
    "\n",
    "# Randomly select a test image path\n",
    "random_image_path = random.sample(test_data_paths, k=1)[0]\n",
    "\n",
    "# Open the target image\n",
    "image = Image.open(random_image_path)\n",
    "print(f\"[INFO] Predicting on image at path: {random_image_path}\\n\")\n",
    "\n",
    "# Predict on the target image and print out the outputs\n",
    "pred_dict, pred_time = predict(img=image)\n",
    "print(f\"Prediction label and probability dictionary: \\n{pred_dict}\")\n",
    "print(f\"Prediction time: {pred_time} seconds\")"
   ]
  },
  {
   "cell_type": "code",
   "execution_count": 19,
   "id": "d3082acb",
   "metadata": {},
   "outputs": [
    {
     "data": {
      "text/plain": [
       "[['E:\\\\Tomato-Classification\\\\Data\\\\PlantVillage\\\\Septoria_leaf_spot\\\\f285de60-b746-43c9-8891-133dce784b44___Keller.St_CG 1788.JPG'],\n",
       " ['E:\\\\Tomato-Classification\\\\Data\\\\PlantVillage\\\\Early_blight\\\\603c6233-8cc0-4bb7-97f3-0e5db1614c63___RS_Erly.B 9398.JPG'],\n",
       " ['E:\\\\Tomato-Classification\\\\Data\\\\PlantVillage\\\\Target_Spot\\\\dbb50cba-a410-49af-a95f-ac53d5fc9af3___Com.G_TgS_FL 8295.JPG']]"
      ]
     },
     "execution_count": 19,
     "metadata": {},
     "output_type": "execute_result"
    }
   ],
   "source": [
    "example_list = [[str(filepath)] for filepath in random.sample(test_data_paths, k=3)]\n",
    "example_list"
   ]
  },
  {
   "cell_type": "code",
   "execution_count": 20,
   "id": "1e1c3425",
   "metadata": {},
   "outputs": [
    {
     "name": "stdout",
     "output_type": "stream",
     "text": [
      "Running on local URL:  http://127.0.0.1:7862\n",
      "Running on public URL: https://35ce184d44eaeba9aa.gradio.live\n",
      "\n",
      "This share link expires in 72 hours. For free permanent hosting and GPU upgrades, run `gradio deploy` from Terminal to deploy to Spaces (https://huggingface.co/spaces)\n"
     ]
    },
    {
     "data": {
      "text/html": [
       "<div><iframe src=\"https://35ce184d44eaeba9aa.gradio.live\" width=\"100%\" height=\"500\" allow=\"autoplay; camera; microphone; clipboard-read; clipboard-write;\" frameborder=\"0\" allowfullscreen></iframe></div>"
      ],
      "text/plain": [
       "<IPython.core.display.HTML object>"
      ]
     },
     "metadata": {},
     "output_type": "display_data"
    },
    {
     "data": {
      "text/plain": []
     },
     "execution_count": 20,
     "metadata": {},
     "output_type": "execute_result"
    }
   ],
   "source": [
    "import gradio as gr\n",
    "\n",
    "# Create title, description and article strings\n",
    "title = \"Tomato Leaf Disease \"\n",
    "description = \"An EfficientNetB2 feature extractor computer vision model to classify images of tomato leaf if they are healthy or infected\"\n",
    "\n",
    "# Create the Gradio demo\n",
    "demo = gr.Interface(fn=predict, # mapping function from input to output\n",
    "                    inputs=gr.Image(type=\"pil\"), # what are the inputs?\n",
    "                    outputs=[gr.Label(num_top_classes=3, label=\"Predictions\"), # what are the outputs?\n",
    "                             gr.Number(label=\"Prediction time (s)\")], # our fn has two outputs, therefore we have two outputs\n",
    "                    examples=example_list, \n",
    "                    title=title,\n",
    "                    description=description)\n",
    "\n",
    "# Launch the demo!\n",
    "demo.launch(debug=False, # print errors locally?\n",
    "            share=True) # generate a publically shareable URL?"
   ]
  },
  {
   "cell_type": "code",
   "execution_count": null,
   "id": "45ee2c78",
   "metadata": {},
   "outputs": [],
   "source": []
  }
 ],
 "metadata": {
  "kernelspec": {
   "display_name": "Python 3 (ipykernel)",
   "language": "python",
   "name": "python3"
  },
  "language_info": {
   "codemirror_mode": {
    "name": "ipython",
    "version": 3
   },
   "file_extension": ".py",
   "mimetype": "text/x-python",
   "name": "python",
   "nbconvert_exporter": "python",
   "pygments_lexer": "ipython3",
   "version": "3.9.17"
  }
 },
 "nbformat": 4,
 "nbformat_minor": 5
}
