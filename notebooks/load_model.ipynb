{
 "cells": [
  {
   "cell_type": "code",
   "execution_count": 1,
   "id": "fec6e2cc",
   "metadata": {},
   "outputs": [],
   "source": [
    "import torchvision\n",
    "from torch import nn\n",
    "from pathlib import Path\n",
    "import time\n",
    "\n",
    "import torch, torchvision\n",
    "\n",
    "import os\n",
    "import pathlib\n",
    "import torch\n",
    "import random\n",
    "import matplotlib.pyplot as plt\n",
    "%matplotlib inline\n",
    "from typing import Tuple, List, Dict\n",
    "from torch import nn\n",
    "\n",
    "from PIL import Image\n",
    "from torch.utils.data import Dataset\n",
    "from torchvision import transforms\n",
    "\n",
    "from timeit import default_timer as timer "
   ]
  },
  {
   "cell_type": "code",
   "execution_count": 2,
   "id": "75dd578a",
   "metadata": {},
   "outputs": [],
   "source": [
    "class_names = ['Bacterial_spot',\n",
    "                 'Curl_Virus',\n",
    "                 'Early_blight',\n",
    "                 'Healthy',\n",
    "                 'Late_blight',\n",
    "                 'Leaf_Mold',\n",
    "                 'Mosaic_virus',\n",
    "                 'Septoria_leaf_spot',\n",
    "                 'Target_Spot',\n",
    "                 'Two_spotted_spider_mite']"
   ]
  },
  {
   "cell_type": "code",
   "execution_count": 4,
   "id": "fab1a44a",
   "metadata": {},
   "outputs": [],
   "source": [
    "%pwd\n",
    "os.chdir('../')"
   ]
  },
  {
   "cell_type": "code",
   "execution_count": 5,
   "id": "89d07af2",
   "metadata": {},
   "outputs": [],
   "source": [
    "loc = Path(\"Data\\PlantVillage\")"
   ]
  },
  {
   "cell_type": "code",
   "execution_count": 6,
   "id": "38076ea1",
   "metadata": {},
   "outputs": [],
   "source": [
    "model = torchvision.models.efficientnet_b2()"
   ]
  },
  {
   "cell_type": "code",
   "execution_count": 9,
   "id": "c823332d",
   "metadata": {},
   "outputs": [],
   "source": [
    "saved_model = torch.load(\"models\\model.pth\", \n",
    "                         map_location=torch.device('cpu')).to('cpu')"
   ]
  },
  {
   "cell_type": "code",
   "execution_count": 10,
   "id": "657ff6de",
   "metadata": {},
   "outputs": [],
   "source": [
    "data_transform = transforms.Compose([\n",
    "    transforms.Resize(size=(224,224)),\n",
    "    transforms.ToTensor(),\n",
    "    #transforms.Normalize(mean=[0.485, 0.456, 0.406], std=[0.229, 0.224, 0.225])\n",
    "])"
   ]
  },
  {
   "cell_type": "code",
   "execution_count": 11,
   "id": "c1befe2a",
   "metadata": {},
   "outputs": [
    {
     "name": "stderr",
     "output_type": "stream",
     "text": [
      "c:\\Users\\harsh\\anaconda3\\envs\\tomato\\lib\\site-packages\\tqdm\\auto.py:21: TqdmWarning: IProgress not found. Please update jupyter and ipywidgets. See https://ipywidgets.readthedocs.io/en/stable/user_install.html\n",
      "  from .autonotebook import tqdm as notebook_tqdm\n"
     ]
    }
   ],
   "source": [
    "import gradio as gr"
   ]
  },
  {
   "cell_type": "code",
   "execution_count": 15,
   "id": "a2c75e13",
   "metadata": {},
   "outputs": [],
   "source": [
    "from typing import Tuple, Dict\n",
    "\n",
    "def predict(img) -> Tuple[Dict, float]:\n",
    "    \"\"\"Transforms and performs a prediction on img and returns prediction and time taken.\n",
    "    \"\"\"\n",
    "    # Start the timer\n",
    "    start_time = timer()\n",
    "    \n",
    "    # Transform the target image and add a batch dimension\n",
    "    img = data_transform(img).unsqueeze(0).to('cpu')\n",
    "    \n",
    "    # Put model into evaluation mode and turn on inference mode\n",
    "    saved_model.eval()\n",
    "    with torch.inference_mode():\n",
    "        # Pass the transformed image through the model and turn the prediction logits into prediction probabilities\n",
    "        pred_probs = torch.softmax(saved_model(img), dim=1)\n",
    "    \n",
    "    # Create a prediction label and prediction probability dictionary for each prediction class (this is the required format for Gradio's output parameter)\n",
    "    pred_labels_and_probs = {class_names[i]: float(pred_probs[0][i]) for i in range(len(class_names))}\n",
    "    \n",
    "    # Calculate the prediction time\n",
    "    pred_time = round(timer() - start_time, 5)\n",
    "    \n",
    "    # Return the prediction dictionary and prediction time \n",
    "    return pred_labels_and_probs, pred_time"
   ]
  },
  {
   "cell_type": "code",
   "execution_count": 16,
   "id": "636a5c64",
   "metadata": {},
   "outputs": [
    {
     "name": "stdout",
     "output_type": "stream",
     "text": [
      "[INFO] Predicting on image at path: Data\\PlantVillage\\Two_spotted_spider_mite\\70787448-85e1-4479-a11b-86c52893ff22___Com.G_SpM_FL 9368.JPG\n",
      "\n",
      "Prediction label and probability dictionary: \n",
      "{'Bacterial_spot': 0.002127839718014002, 'Curl_Virus': 0.0002441005635773763, 'Early_blight': 0.0005701184272766113, 'Healthy': 0.00013484872761182487, 'Late_blight': 0.000562656088732183, 'Leaf_Mold': 0.0009177390020340681, 'Mosaic_virus': 0.0007484101806767285, 'Septoria_leaf_spot': 5.128438715473749e-05, 'Target_Spot': 0.017970064654946327, 'Two_spotted_spider_mite': 0.9766729474067688}\n",
      "Prediction time: 0.0571 seconds\n"
     ]
    }
   ],
   "source": [
    "import random\n",
    "from PIL import Image\n",
    "from pathlib import Path\n",
    "\n",
    "# Get a list of all test image filepaths\n",
    "test_data_paths = list(loc.glob(\"*/*.jpg\"))\n",
    "#image_path_list = list(loc.glob(\"*/*.jpg\"))\n",
    "\n",
    "# Randomly select a test image path\n",
    "random_image_path = random.sample(test_data_paths, k=1)[0]\n",
    "\n",
    "# Open the target image\n",
    "image = Image.open(random_image_path)\n",
    "print(f\"[INFO] Predicting on image at path: {random_image_path}\\n\")\n",
    "\n",
    "# Predict on the target image and print out the outputs\n",
    "pred_dict, pred_time = predict(img=image)\n",
    "print(f\"Prediction label and probability dictionary: \\n{pred_dict}\")\n",
    "print(f\"Prediction time: {pred_time} seconds\")"
   ]
  },
  {
   "cell_type": "code",
   "execution_count": 20,
   "id": "d3082acb",
   "metadata": {},
   "outputs": [
    {
     "data": {
      "text/plain": [
       "[['Data\\\\PlantVillage\\\\Target_Spot\\\\0e9c0af8-facc-4240-b498-41f8004c8061___Com.G_TgS_FL 0915.JPG'],\n",
       " ['Data\\\\PlantVillage\\\\Bacterial_spot\\\\f332d822-2557-42ee-ba97-c62cafcc5c29___GCREC_Bact.Sp 3172.JPG'],\n",
       " ['Data\\\\PlantVillage\\\\Bacterial_spot\\\\dd6e2b14-f790-452a-b810-a667064a8699___GCREC_Bact.Sp 5632.JPG']]"
      ]
     },
     "execution_count": 20,
     "metadata": {},
     "output_type": "execute_result"
    }
   ],
   "source": [
    "example_list = [[str(filepath)] for filepath in random.sample(test_data_paths, k=3)]\n",
    "example_list"
   ]
  },
  {
   "cell_type": "code",
   "execution_count": 18,
   "id": "1e1c3425",
   "metadata": {},
   "outputs": [
    {
     "name": "stdout",
     "output_type": "stream",
     "text": [
      "Running on local URL:  http://127.0.0.1:7860\n",
      "Running on public URL: https://dd40198f8ad35e6014.gradio.live\n",
      "\n",
      "This share link expires in 72 hours. For free permanent hosting and GPU upgrades, run `gradio deploy` from Terminal to deploy to Spaces (https://huggingface.co/spaces)\n"
     ]
    },
    {
     "data": {
      "text/html": [
       "<div><iframe src=\"https://dd40198f8ad35e6014.gradio.live\" width=\"100%\" height=\"500\" allow=\"autoplay; camera; microphone; clipboard-read; clipboard-write;\" frameborder=\"0\" allowfullscreen></iframe></div>"
      ],
      "text/plain": [
       "<IPython.core.display.HTML object>"
      ]
     },
     "metadata": {},
     "output_type": "display_data"
    },
    {
     "data": {
      "text/plain": []
     },
     "execution_count": 18,
     "metadata": {},
     "output_type": "execute_result"
    }
   ],
   "source": [
    "import gradio as gr\n",
    "\n",
    "# Create title, description and article strings\n",
    "title = \"Tomato Leaf Disease \"\n",
    "description = \"An EfficientNetB2 feature extractor computer vision model to classify images of tomato leaf if they are healthy or infected\"\n",
    "\n",
    "# Create the Gradio demo\n",
    "demo = gr.Interface(fn=predict, # mapping function from input to output\n",
    "                    inputs=gr.Image(type=\"pil\"), # what are the inputs?\n",
    "                    outputs=[gr.Label(num_top_classes=3, label=\"Predictions\"), # what are the outputs?\n",
    "                             gr.Number(label=\"Prediction time (s)\")], # our fn has two outputs, therefore we have two outputs\n",
    "                    examples=example_list, \n",
    "                    title=title,\n",
    "                    description=description)\n",
    "\n",
    "# Launch the demo!\n",
    "demo.launch(debug=False, # print errors locally?\n",
    "            share=True) # generate a publically shareable URL?"
   ]
  },
  {
   "cell_type": "code",
   "execution_count": null,
   "id": "45ee2c78",
   "metadata": {},
   "outputs": [],
   "source": []
  }
 ],
 "metadata": {
  "kernelspec": {
   "display_name": "Python 3 (ipykernel)",
   "language": "python",
   "name": "python3"
  },
  "language_info": {
   "codemirror_mode": {
    "name": "ipython",
    "version": 3
   },
   "file_extension": ".py",
   "mimetype": "text/x-python",
   "name": "python",
   "nbconvert_exporter": "python",
   "pygments_lexer": "ipython3",
   "version": "3.9.17"
  }
 },
 "nbformat": 4,
 "nbformat_minor": 5
}
